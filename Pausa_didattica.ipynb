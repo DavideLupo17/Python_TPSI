{
  "nbformat": 4,
  "nbformat_minor": 0,
  "metadata": {
    "colab": {
      "provenance": [],
      "authorship_tag": "ABX9TyM4JBA+RDa39Q2pM7rSjwO+",
      "include_colab_link": true
    },
    "kernelspec": {
      "name": "python3",
      "display_name": "Python 3"
    },
    "language_info": {
      "name": "python"
    }
  },
  "cells": [
    {
      "cell_type": "markdown",
      "metadata": {
        "id": "view-in-github",
        "colab_type": "text"
      },
      "source": [
        "<a href=\"https://colab.research.google.com/github/DavideLupo17/Python_TPSI/blob/main/Pausa_didattica.ipynb\" target=\"_parent\"><img src=\"https://colab.research.google.com/assets/colab-badge.svg\" alt=\"Open In Colab\"/></a>"
      ]
    },
    {
      "cell_type": "markdown",
      "source": [
        "Esericzio 1: calcolare il Pi greco con il teorema di monte carlo: immaginate di avere un quadrato nel piano cartesiano con i vertici situati in (1,1), (1,-1), (-1,-1) e (-1,1) e iscriveteci dentro un cerchio.\n",
        "A questo punto andate a generare dei valori casuali di x e y (ovviamente compresi tra -1 e 1 e verificate che questi si trovino all'interno del cerchio o solamente all'interno del quadrato). ripetete quest'operazione per molte volte e dopo aver fatto ciò il nostro pigreco sarà uguale a 4 * (numero_punti_dentro_al_cerchio/numero_punti_totali).\n",
        "\n",
        "per generare dei numeri casuali è necessario scrivere all'inizio del programma\n",
        "\n",
        "```\n",
        "import random\n",
        "```\n",
        "invece per generare dei numeri compresi tra -1 e 1 si può usare il comando:\n",
        "\n",
        "\n",
        "\n",
        "```\n",
        "variabile = random.uniform(-1,1)\n",
        "\n",
        "```\n",
        "\n",
        "\n",
        "\n",
        "\n",
        ":"
      ],
      "metadata": {
        "id": "C5y3tYxz9WHK"
      }
    },
    {
      "cell_type": "code",
      "execution_count": 5,
      "metadata": {
        "colab": {
          "base_uri": "https://localhost:8080/"
        },
        "id": "vuKq1e1_9VJd",
        "outputId": "f4954f54-ae0f-4c24-c5f6-1971010e7b1a"
      },
      "outputs": [
        {
          "output_type": "stream",
          "name": "stdout",
          "text": [
            "Valore approssimato di π con 1000000 punti: 3.142412\n"
          ]
        }
      ],
      "source": [
        "import random\n",
        "\n",
        "def calcola_pigreco_montecarlo(num_punti):\n",
        "    punti_nel_cerchio = 0\n",
        "\n",
        "    for _ in range(num_punti):\n",
        "        # Genera punti casuali nel quadrato (-1, -1) a (1, 1)\n",
        "        x = random.uniform(-1, 1)\n",
        "        y = random.uniform(-1, 1)\n",
        "\n",
        "        # Verifica se il punto è all'interno del cerchio\n",
        "        distanza_dall_origine = (x**2 + y**2) ** 0.5\n",
        "        if distanza_dall_origine <= 1:\n",
        "            punti_nel_cerchio += 1\n",
        "\n",
        "    # Calcola la proporzione e approssima il valore di π\n",
        "    proporzione = punti_nel_cerchio / num_punti\n",
        "    pigreco_approssimato = proporzione * 4\n",
        "\n",
        "    return pigreco_approssimato\n",
        "\n",
        "# Numero di punti per l'approssimazione\n",
        "num_punti = 1000000\n",
        "\n",
        "# Calcola il valore approssimato di π\n",
        "risultato_approssimato = calcola_pigreco_montecarlo(num_punti)\n",
        "\n",
        "# Output del risultato\n",
        "print(f\"Valore approssimato di π con {num_punti} punti: {risultato_approssimato}\")\n"
      ]
    },
    {
      "cell_type": "markdown",
      "source": [
        "Esercizio 2: Confronto di Stringhe\n",
        "\n",
        "Chiedi all'utente di inserire due stringhe e verifica se sono uguali o se una è più lunga dell'altra.\n",
        "\n",
        "Per trovare la lunghezza di una stringa si usi variabile = len(stringa)"
      ],
      "metadata": {
        "id": "bquIe4MWAKJe"
      }
    },
    {
      "cell_type": "code",
      "source": [
        "# Esercizio: Confronto di Stringhe\n",
        "\n",
        "# Input da parte dell'utente\n",
        "stringa1 = input(\"Inserisci la prima stringa: \")\n",
        "stringa2 = input(\"Inserisci la seconda stringa: \")\n",
        "\n",
        "# Confronto delle lunghezze delle stringhe\n",
        "lunghezza_stringa1 = len(stringa1)\n",
        "lunghezza_stringa2 = len(stringa2)\n",
        "\n",
        "# Confronto e output del risultato\n",
        "if lunghezza_stringa1 == lunghezza_stringa2:\n",
        "    print(\"Le due stringhe sono uguali.\")\n",
        "else:\n",
        "    if lunghezza_stringa1 > lunghezza_stringa2:\n",
        "        print(f\"{stringa1} è più lunga di {stringa2}.\")\n",
        "    else:\n",
        "        print(f\"{stringa2} è più lunga di {stringa1}.\")\n"
      ],
      "metadata": {
        "colab": {
          "base_uri": "https://localhost:8080/"
        },
        "id": "vilcgGN0AbX5",
        "outputId": "96de15bf-b85e-45d6-bfad-0156c71c0991"
      },
      "execution_count": 10,
      "outputs": [
        {
          "output_type": "stream",
          "name": "stdout",
          "text": [
            "Inserisci la prima stringa: ciao\n",
            "Inserisci la seconda stringa: cane\n",
            "4\n",
            "4\n",
            "Le due stringhe sono uguali.\n"
          ]
        }
      ]
    },
    {
      "cell_type": "markdown",
      "source": [
        "Esercizio 3: crea un gioco in cui il computer sceglie casualmente un numero tra 1 e 100 e l'utente deve indovinare quale sia. Dopo ogni tentativo, il computer fornisce un suggerimento se il numero inserito è troppo alto, troppo basso o corretto. Il gioco continua fino a quando l'utente indovina il numero."
      ],
      "metadata": {
        "id": "_AJehCKrBK7Y"
      }
    },
    {
      "cell_type": "code",
      "source": [
        "# Esercizio: Indovina il Numero\n",
        "\n",
        "import random\n",
        "\n",
        "# Genera un numero casuale tra 1 e 100\n",
        "numero_da_indovinare = random.randint(1, 100)\n",
        "\n",
        "tentativi = 0\n",
        "\n",
        "while True:\n",
        "    # Input dell'utente\n",
        "    tentativo = int(input(\"Indovina il numero (da 1 a 100): \"))\n",
        "\n",
        "    # Incrementa il numero di tentativi\n",
        "    tentativi += 1\n",
        "\n",
        "    # Verifica se il tentativo è corretto\n",
        "    if tentativo == numero_da_indovinare:\n",
        "        print(f\"Bravo! Hai indovinato il numero {numero_da_indovinare} in {tentativi} tentativi.\")\n",
        "        break\n",
        "    elif tentativo < numero_da_indovinare:\n",
        "        print(\"Troppo basso. Prova di nuovo.\")\n",
        "    else:\n",
        "        print(\"Troppo alto. Prova di nuovo.\")\n"
      ],
      "metadata": {
        "id": "wx2ag5DHBKjv"
      },
      "execution_count": null,
      "outputs": []
    },
    {
      "cell_type": "markdown",
      "source": [
        "Esempi utilizzo GUI"
      ],
      "metadata": {
        "id": "DERZbQhjCEAW"
      }
    },
    {
      "cell_type": "code",
      "source": [
        "import tkinter as tk\n",
        "import math\n",
        "import re\n",
        "\n",
        "\n",
        "def aggiungi_carattere(carattere):\n",
        "    entry_var.insert(tk.END, str(carattere))\n",
        "\n",
        "def calcola():\n",
        "    try:\n",
        "        espressione = entry_var.get(\"1.0\", tk.END).strip()\n",
        "        risultato = valuta_espressione(espressione)\n",
        "        entry_var.delete(\"1.0\", tk.END)\n",
        "        entry_var.insert(tk.END, str(risultato))\n",
        "        risultato_precedente_label.config(text=\"Ultimo risultato: \" + str(risultato))\n",
        "        risultato_precedente_var.set(str(risultato))\n",
        "    except Exception as e:\n",
        "        entry_var.delete(\"1.0\", tk.END)\n",
        "        entry_var.insert(tk.END, \"Errore\")\n",
        "\n",
        "def cancella():\n",
        "    entry_var.delete(\"1.0\", tk.END)\n",
        "\n",
        "def valuta_espressione(espressione):\n",
        "    try:\n",
        "        # Sostituisci 'x' con '*' per la moltiplicazione\n",
        "        espressione = espressione.replace('x', '*')\n",
        "\n",
        "        # Trova e sostituisci le funzioni matematiche\n",
        "        espressione = re.sub(r'log\\(([^)]+)\\)', r'math.log(\\1, 10)', espressione)\n",
        "        espressione = re.sub(r'sin\\(([^)]+)\\)', lambda match: f'math.sin(math.radians({match.group(1)}))', espressione)\n",
        "        espressione = re.sub(r'cos\\(([^)]+)\\)', lambda match: f'math.cos(math.radians({match.group(1)}))', espressione)\n",
        "        espressione = re.sub(r'√\\(([^)]+)\\)', lambda match: f'math.sqrt({match.group(1)})', espressione)\n",
        "        espressione = espressione.replace('²', '**2')\n",
        "\n",
        "        return eval(espressione)\n",
        "    except Exception as e:\n",
        "        raise ValueError(\"Espressione non valida\")\n",
        "\n",
        "\n",
        "\n",
        "# Creazione della finestra principale\n",
        "finestra = tk.Tk()\n",
        "finestra.title(\"Calcolatrice 3L\")\n",
        "\n",
        "# Etichetta per il titolo \"Calcolatrice 3L\"\n",
        "titolo_label = tk.Label(finestra, text=\"Calcolatrice 3L\", font=('Helvetica', 25, 'bold'), pady=10)\n",
        "titolo_label.grid(row=0, column=0, columnspan=6)\n",
        "\n",
        "# Variabile per la visualizzazione dell'input\n",
        "entry_var = tk.Text(finestra, height=2, width=40, font=('Helvetica', 16), bd=5, relief=\"ridge\", bg=\"#E0E0E0\", wrap='word')\n",
        "entry_var.grid(row=1, column=0, columnspan=6, pady=5, sticky=\"nsew\")\n",
        "\n",
        "# Etichetta per il risultato precedente\n",
        "risultato_precedente_var = tk.StringVar(value=\"\")\n",
        "risultato_precedente_label = tk.Label(finestra, text=\"Ultimo risultato: \" + risultato_precedente_var.get(), font=('Helvetica', 12))\n",
        "risultato_precedente_label.grid(row=6, column=0, columnspan=6)\n",
        "\n",
        "# Definizione dei pulsanti\n",
        "pulsanti = [\n",
        "    '7', '8', '9', '÷', '√', 'C',\n",
        "    '4', '5', '6', 'x', 'x²', 'sin',\n",
        "    '1', '2', '3', '-', 'log', 'cos',\n",
        "    '0', '.', '=', '+', '(', ')'\n",
        "]\n",
        "\n",
        "# Stili per i pulsanti\n",
        "pulsante_style = {'font': ('Helvetica', 14), 'width': 8, 'height': 2, 'bd': 4, 'relief': 'ridge'}\n",
        "\n",
        "# Creazione e posizionamento dei pulsanti\n",
        "row_val = 2\n",
        "col_val = 0\n",
        "for button_text in pulsanti:\n",
        "    if button_text == '√':\n",
        "        tk.Button(finestra, text=button_text, command=lambda t='√(': aggiungi_carattere(t), **pulsante_style).grid(row=row_val,\n",
        "                                                                                                            column=col_val,\n",
        "                                                                                                            sticky='nsew')\n",
        "    elif button_text == 'x²':\n",
        "        tk.Button(finestra, text=button_text, command=lambda t='²': aggiungi_carattere(t), **pulsante_style).grid(row=row_val,\n",
        "                                                                                                            column=col_val,\n",
        "                                                                                                            sticky='nsew')\n",
        "    elif button_text == 'C':\n",
        "        tk.Button(finestra, text=button_text, command=cancella, **pulsante_style, bg='#FF4500').grid(row=row_val,\n",
        "                                                                                                     column=col_val,\n",
        "                                                                                                     sticky='nsew')\n",
        "    elif button_text in ['log', 'sin', 'cos']:\n",
        "        tk.Button(finestra, text=button_text, command=lambda t=button_text: aggiungi_carattere(t + '('), **pulsante_style).grid(row=row_val,\n",
        "                                                                                                       column=col_val,\n",
        "                                                                                                       sticky='nsew')\n",
        "    elif button_text in ['(', ')']:\n",
        "        tk.Button(finestra, text=button_text, command=lambda t=button_text: aggiungi_carattere(t), **pulsante_style).grid(row=row_val,\n",
        "                                                                                                       column=col_val,\n",
        "                                                                                                       sticky='nsew')\n",
        "    elif button_text == '=':\n",
        "        tk.Button(finestra, text=button_text,\n",
        "                  command=calcola,\n",
        "                  **pulsante_style).grid(row=row_val, column=col_val, sticky='nsew')\n",
        "    else:\n",
        "        tk.Button(finestra, text=button_text,\n",
        "                  command=lambda t=button_text: aggiungi_carattere(t),\n",
        "                  **pulsante_style).grid(row=row_val, column=col_val, sticky='nsew')\n",
        "\n",
        "    col_val += 1\n",
        "    if col_val > 5:\n",
        "        col_val = 0\n",
        "        row_val += 1\n",
        "\n",
        "# Configurazione del layout responsive\n",
        "for i in range(6):\n",
        "    finestra.grid_columnconfigure(i, weight=1)\n",
        "    finestra.grid_rowconfigure(i + 1, weight=1)\n",
        "\n",
        "# Avvio del loop principale\n",
        "finestra.mainloop()\n"
      ],
      "metadata": {
        "id": "xAC4fSPDCF8z"
      },
      "execution_count": null,
      "outputs": []
    },
    {
      "cell_type": "code",
      "source": [
        "import tkinter as tk\n",
        "\n",
        "# Creazione di una funzione che verrà eseguita quando il pulsante viene premuto\n",
        "def mostra_messaggio():\n",
        "    label_saluto.config(text=\"Ciao, Tkinter!\")\n",
        "\n",
        "# Creazione della finestra principale\n",
        "finestra = tk.Tk()\n",
        "finestra.title(\"Esercizio Tkinter\")\n",
        "\n",
        "# Creazione di un pulsante e una label\n",
        "pulsante_saluto = tk.Button(finestra, text=\"Premi per salutare\", command=mostra_messaggio)\n",
        "label_saluto = tk.Label(finestra, text=\"Benvenuto in Tkinter!\")\n",
        "\n",
        "# Posizionamento degli elementi nella finestra\n",
        "pulsante_saluto.pack(pady=10)\n",
        "label_saluto.pack()\n",
        "\n",
        "# Avvio del ciclo degli eventi Tkinter\n",
        "finestra.mainloop()\n"
      ],
      "metadata": {
        "id": "3dj4nQ62CiNS"
      },
      "execution_count": null,
      "outputs": []
    },
    {
      "cell_type": "code",
      "source": [
        "import tkinter as tk\n",
        "\n",
        "# Funzione chiamata quando il pulsante viene premuto\n",
        "def saluta():\n",
        "    nome = casella_testo.get()\n",
        "    if nome:\n",
        "        messaggio_saluto.config(text=f\"Ciao, {nome}!\")\n",
        "    else:\n",
        "        messaggio_saluto.config(text=\"Per favore, inserisci il tuo nome.\")\n",
        "\n",
        "# Creazione della finestra principale\n",
        "finestra = tk.Tk()\n",
        "finestra.title(\"Applicazione di Saluto\")\n",
        "\n",
        "# Creazione di una casella di testo, un pulsante e una label\n",
        "etichetta_nome = tk.Label(finestra, text=\"Inserisci il tuo nome:\")\n",
        "casella_testo = tk.Entry(finestra)\n",
        "pulsante_saluto = tk.Button(finestra, text=\"Saluta\", command=saluta)\n",
        "messaggio_saluto = tk.Label(finestra, text=\"\")\n",
        "\n",
        "# Posizionamento degli elementi nella finestra\n",
        "etichetta_nome.grid(row=0, column=0, pady=5)\n",
        "casella_testo.grid(row=0, column=1, pady=5)\n",
        "pulsante_saluto.grid(row=1, column=0, columnspan=2, pady=10)\n",
        "messaggio_saluto.grid(row=2, column=0, columnspan=2)\n",
        "\n",
        "# Avvio del ciclo degli eventi Tkinter\n",
        "finestra.mainloop()\n"
      ],
      "metadata": {
        "id": "XbxoniJRCyeY"
      },
      "execution_count": null,
      "outputs": []
    },
    {
      "cell_type": "code",
      "source": [
        "import tkinter as tk\n",
        "\n",
        "# Funzione chiamata quando il pulsante viene premuto\n",
        "def aggiungi_elemento():\n",
        "    nuovo_elemento = casella_testo.get()\n",
        "    if nuovo_elemento:\n",
        "        lista_box.insert(tk.END, nuovo_elemento)\n",
        "        casella_testo.delete(0, tk.END)  # Pulisce la casella di testo dopo l'inserimento\n",
        "\n",
        "# Creazione della finestra principale\n",
        "finestra = tk.Tk()\n",
        "finestra.title(\"Lista delle Cose da Fare\")\n",
        "\n",
        "# Creazione di una casella di testo, un pulsante, e una lista\n",
        "casella_testo = tk.Entry(finestra, width=30)\n",
        "pulsante_aggiungi = tk.Button(finestra, text=\"Aggiungi\", command=aggiungi_elemento)\n",
        "lista_box = tk.Listbox(finestra, selectmode=tk.SINGLE, height=5)\n",
        "\n",
        "# Posizionamento degli elementi nella finestra\n",
        "casella_testo.grid(row=0, column=0, padx=10, pady=5)\n",
        "pulsante_aggiungi.grid(row=0, column=1, padx=10, pady=5)\n",
        "lista_box.grid(row=1, column=0, columnspan=2, padx=10, pady=5)\n",
        "\n",
        "# Avvio del ciclo degli eventi Tkinter\n",
        "finestra.mainloop()\n"
      ],
      "metadata": {
        "id": "8fY_epObC5yb"
      },
      "execution_count": null,
      "outputs": []
    },
    {
      "cell_type": "code",
      "source": [
        "import tkinter as tk\n",
        "\n",
        "# Funzione chiamata quando il pulsante viene premuto\n",
        "def converti_valuta():\n",
        "    try:\n",
        "        euro = float(casella_euro.get())\n",
        "        tasso_di_cambio = float(casella_tasso_di_cambio.get())\n",
        "        dollari = euro * tasso_di_cambio\n",
        "        risultato.config(text=f\"Corrispondono a {dollari:.2f} Dollari\")\n",
        "    except ValueError:\n",
        "        risultato.config(text=\"Inserisci un valore valido\")\n",
        "\n",
        "# Creazione della finestra principale\n",
        "finestra = tk.Tk()\n",
        "finestra.title(\"Convertitore Valuta\")\n",
        "\n",
        "# Creazione di caselle di testo, un pulsante, e una label\n",
        "etichetta_euro = tk.Label(finestra, text=\"Euro:\")\n",
        "casella_euro = tk.Entry(finestra, width=10)\n",
        "etichetta_tasso_di_cambio = tk.Label(finestra, text=\"Tasso di cambio:\")\n",
        "casella_tasso_di_cambio = tk.Entry(finestra, width=10)\n",
        "pulsante_converti = tk.Button(finestra, text=\"Converti\", command=converti_valuta)\n",
        "risultato = tk.Label(finestra, text=\"Risultato:\")\n",
        "\n",
        "# Posizionamento degli elementi nella finestra\n",
        "etichetta_euro.grid(row=0, column=0, padx=10, pady=5)\n",
        "casella_euro.grid(row=0, column=1, padx=10, pady=5)\n",
        "etichetta_tasso_di_cambio.grid(row=1, column=0, padx=10, pady=5)\n",
        "casella_tasso_di_cambio.grid(row=1, column=1, padx=10, pady=5)\n",
        "pulsante_converti.grid(row=2, column=0, columnspan=2, pady=10)\n",
        "risultato.grid(row=3, column=0, columnspan=2, pady=5)\n",
        "\n",
        "# Avvio del ciclo degli eventi Tkinter\n",
        "finestra.mainloop()\n"
      ],
      "metadata": {
        "id": "pR80-T00DKYn"
      },
      "execution_count": null,
      "outputs": []
    },
    {
      "cell_type": "code",
      "source": [
        "import tkinter as tk\n",
        "from tkinter import messagebox\n",
        "\n",
        "# Funzione chiamata quando il pulsante \"Aggiungi\" viene premuto\n",
        "def aggiungi_persona():\n",
        "    nuova_persona = casella_persona.get()\n",
        "    if nuova_persona:\n",
        "        lista_personale.insert(tk.END, nuova_persona)\n",
        "        casella_persona.delete(0, tk.END)  # Pulisce la casella di testo dopo l'inserimento\n",
        "    else:\n",
        "        messagebox.showwarning(\"Attenzione\", \"Inserisci il nome della persona.\")\n",
        "\n",
        "# Funzione chiamata quando il pulsante \"Rimuovi\" viene premuto\n",
        "def rimuovi_persona():\n",
        "    indice_selezionato = lista_personale.curselection()\n",
        "    if indice_selezionato:\n",
        "        lista_personale.delete(indice_selezionato)\n",
        "    else:\n",
        "        messagebox.showwarning(\"Attenzione\", \"Seleziona una persona da rimuovere.\")\n",
        "\n",
        "# Creazione della finestra principale\n",
        "finestra = tk.Tk()\n",
        "finestra.title(\"Lista Personale\")\n",
        "\n",
        "# Creazione di una casella di testo, pulsanti, e una lista\n",
        "casella_persona = tk.Entry(finestra, width=30)\n",
        "pulsante_aggiungi = tk.Button(finestra, text=\"Aggiungi\", command=aggiungi_persona)\n",
        "pulsante_rimuovi = tk.Button(finestra, text=\"Rimuovi\", command=rimuovi_persona)\n",
        "lista_personale = tk.Listbox(finestra, selectmode=tk.SINGLE, height=5)\n",
        "\n",
        "# Posizionamento degli elementi nella finestra\n",
        "casella_persona.grid(row=0, column=0, padx=10, pady=5, columnspan=2)\n",
        "pulsante_aggiungi.grid(row=1, column=0, padx=10, pady=5)\n",
        "pulsante_rimuovi.grid(row=1, column=1, padx=10, pady=5)\n",
        "lista_personale.grid(row=2, column=0, columnspan=2, padx=10, pady=5)\n",
        "\n",
        "# Avvio del ciclo degli eventi Tkinter\n",
        "finestra.mainloop()\n"
      ],
      "metadata": {
        "id": "waG88_VwDmUQ"
      },
      "execution_count": null,
      "outputs": []
    },
    {
      "cell_type": "code",
      "source": [
        "import tkinter as tk\n",
        "from tkinter import messagebox\n",
        "import random\n",
        "\n",
        "# Funzione chiamata quando il pulsante \"Indovina\" viene premuto\n",
        "def indovina_numero():\n",
        "    try:\n",
        "        tentativo = int(casella_tentativo.get())\n",
        "        if 1 <= tentativo <= 100:\n",
        "            if tentativo == numero_segreto:\n",
        "                messagebox.showinfo(\"Congratulazioni\", \"Complimenti! Hai indovinato il numero.\")\n",
        "                finestra.destroy()  # Chiudi la finestra dopo aver indovinato\n",
        "            elif tentativo < numero_segreto:\n",
        "                messagebox.showinfo(\"Indovina il Numero\", \"Troppo basso. Prova di nuovo.\")\n",
        "            else:\n",
        "                messagebox.showinfo(\"Indovina il Numero\", \"Troppo alto. Prova di nuovo.\")\n",
        "        else:\n",
        "            messagebox.showwarning(\"Attenzione\", \"Inserisci un numero compreso tra 1 e 100.\")\n",
        "    except ValueError:\n",
        "        messagebox.showwarning(\"Attenzione\", \"Inserisci un numero valido.\")\n",
        "\n",
        "# Genera un numero segreto tra 1 e 100\n",
        "numero_segreto = random.randint(1, 100)\n",
        "\n",
        "# Creazione della finestra principale\n",
        "finestra = tk.Tk()\n",
        "finestra.title(\"Indovina il Numero\")\n",
        "\n",
        "# Creazione di una casella di testo, un pulsante, e una label\n",
        "etichetta_tentativo = tk.Label(finestra, text=\"Tentativo:\")\n",
        "casella_tentativo = tk.Entry(finestra, width=10)\n",
        "pulsante_indovina = tk.Button(finestra, text=\"Indovina\", command=indovina_numero)\n",
        "\n",
        "# Posizionamento degli elementi nella finestra\n",
        "etichetta_tentativo.grid(row=0, column=0, padx=10, pady=5)\n",
        "casella_tentativo.grid(row=0, column=1, padx=10, pady=5)\n",
        "pulsante_indovina.grid(row=1, column=0, columnspan=2, pady=10)\n",
        "\n",
        "# Avvio del ciclo degli eventi Tkinter\n",
        "finestra.mainloop()\n"
      ],
      "metadata": {
        "id": "2qnO_nuREAIk"
      },
      "execution_count": null,
      "outputs": []
    },
    {
      "cell_type": "markdown",
      "source": [
        "Dall'osservazione degli esempi svolti, pensare e realizzare un programma a propria scelta in gruppi di 3/4 persone. La consegna sarà per Sabato 3/02"
      ],
      "metadata": {
        "id": "4VVzAzoyEMEl"
      }
    }
  ]
}