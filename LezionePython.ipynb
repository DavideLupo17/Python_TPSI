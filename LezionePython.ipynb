{
  "nbformat": 4,
  "nbformat_minor": 0,
  "metadata": {
    "colab": {
      "provenance": [],
      "authorship_tag": "ABX9TyPtyIJh6+GFL73hrMJtVWyE",
      "include_colab_link": true
    },
    "kernelspec": {
      "name": "python3",
      "display_name": "Python 3"
    },
    "language_info": {
      "name": "python"
    }
  },
  "cells": [
    {
      "cell_type": "markdown",
      "metadata": {
        "id": "view-in-github",
        "colab_type": "text"
      },
      "source": [
        "<a href=\"https://colab.research.google.com/github/DavideLupo17/Python_TPSI/blob/main/LezionePython.ipynb\" target=\"_parent\"><img src=\"https://colab.research.google.com/assets/colab-badge.svg\" alt=\"Open In Colab\"/></a>"
      ]
    },
    {
      "cell_type": "markdown",
      "source": [
        "# **istruzioni di controllo: if, elif, else**"
      ],
      "metadata": {
        "id": "bTsH_bqpa4Hb"
      }
    },
    {
      "cell_type": "code",
      "execution_count": null,
      "metadata": {
        "id": "GwtK2OF3Zq3-"
      },
      "outputs": [],
      "source": [
        "# Esempio di istruzione condizionale\n",
        "x = 10\n",
        "if x > 5:\n",
        "    print(\"x è maggiore di 5\")\n",
        "elif x == 5:\n",
        "    print(\"x è uguale a 5\")\n",
        "else:\n",
        "    print(\"x è minore di 5\")\n",
        "\n",
        "\n"
      ]
    },
    {
      "cell_type": "markdown",
      "source": [
        "# **utilizzo di operatori logici booleani**"
      ],
      "metadata": {
        "id": "f4zNcYk8a_Z0"
      }
    },
    {
      "cell_type": "code",
      "source": [
        "# Operatori logici\n",
        "a = True\n",
        "b = False\n",
        "\n",
        "#creazione di due variabili booleane\n",
        "\n",
        "if a and b:                                   #operatore logico and\n",
        "    print(\"Entrambi sono veri\")\n",
        "elif a or b:                                  #operatore logico or\n",
        "    print(\"Almeno uno è vero\")\n",
        "else:\n",
        "    print(\"Entrambi sono falsi\")\n",
        "\n",
        "if not b:                                     #operatore not\n",
        "    print(\"B è falso\")\n",
        "else:\n",
        "    print(\"B è vero\")\n",
        "\n"
      ],
      "metadata": {
        "id": "bjYas05ra9Ia"
      },
      "execution_count": null,
      "outputs": []
    },
    {
      "cell_type": "markdown",
      "source": [
        "# **Liste e Tuple**\n",
        "tuple è un tipo speciale di lista dove non è possibile andare ad aggiungere un elemento, la differenza tra le due liste è nella dichiarazione, infatti, mentre la lista utilizza le parentesi quadre, tuple utilizza le parentesi tonde"
      ],
      "metadata": {
        "id": "5u2FPgBDV7Te"
      }
    },
    {
      "cell_type": "code",
      "source": [
        "# Lista\n",
        "frutta = [\"mela\", \"banana\", \"kiwi\"]\n",
        "frutta.append(\"arancia\")\n",
        "print(f\"Lista di frutta: {frutta}\")\n",
        "\n",
        "# Tuple\n",
        "coordinate = (3, 4)\n",
        "print(f\"Coordinate: {coordinate}\")\n"
      ],
      "metadata": {
        "id": "WC4UXj_TcMQt"
      },
      "execution_count": null,
      "outputs": []
    },
    {
      "cell_type": "markdown",
      "source": [
        "# **Liste e tuple**\n",
        "Andiamo a verificare che in un tuple non si possano aggiungere elementi e per farlo modifichiamo le parentesi nel seguente modo:\n",
        "\n",
        "```\n",
        "frutta = (\"mela\" , \"banana\" , \"kiwi\" )\n",
        "frutta.append(\"arancia\")\n",
        "print(f\"lista di frutta:{frutta}\")\n",
        "\n",
        "```\n",
        "Proviamo a mandare in esecuzione il programma e osserviamo il risultato:\n",
        "\n",
        "\n",
        "```\n",
        "codicAttributeError                            Traceback (most recent call last)\n",
        "<ipython-input-9-03fc4f9dc2dd> in <cell line: 3>()\n",
        "      1 # Lista\n",
        "      2 frutta = (\"mela\", \"banana\", \"kiwi\")\n",
        "----> 3 frutta.append(\"arancia\")\n",
        "      4 print(f\"Lista di frutta: {frutta}\")\n",
        "      5\n",
        "\n",
        "AttributeError: 'tuple' object has no attribute 'append'\n",
        "```\n",
        "\n",
        "\n",
        "\n"
      ],
      "metadata": {
        "id": "TifNLkUodGD3"
      }
    },
    {
      "cell_type": "markdown",
      "source": [
        "# **Dizionario**\n",
        "I dizionari sono collezioni di coppie chiave-valore. Ogni valore è accessibile tramite la sua chiave associata."
      ],
      "metadata": {
        "id": "Un6MjHwofpA1"
      }
    },
    {
      "cell_type": "code",
      "source": [
        "# Dizionario\n",
        "persona = {\"nome\": \"Mario\", \"età\": 30, \"città\": \"Roma\"}\n",
        "print(f\"Nome: {persona['nome']}, Età: {persona['età']}\")\n"
      ],
      "metadata": {
        "id": "hr1Zi-DGfhyB"
      },
      "execution_count": null,
      "outputs": []
    },
    {
      "cell_type": "markdown",
      "source": [
        "# **Funzioni**\n",
        "Le funzioni in Python ci consentono di organizzare il codice in blocchi riutilizzabili. Possiamo definire parametri e restituire valori."
      ],
      "metadata": {
        "id": "uwKQgRR1gQpZ"
      }
    },
    {
      "cell_type": "code",
      "source": [
        "# Funzione semplice\n",
        "def saluta(nome):\n",
        "    print(f\"Ciao, {nome}!\")\n",
        "\n",
        "nome_prova = \"Alessandro\"\n",
        "saluta(nome_prova)\n"
      ],
      "metadata": {
        "id": "RZGZVrdGf8FW"
      },
      "execution_count": null,
      "outputs": []
    },
    {
      "cell_type": "markdown",
      "source": [
        "# **Gestione delle eccezioni**"
      ],
      "metadata": {
        "id": "akj4ou8nWmaz"
      }
    },
    {
      "cell_type": "code",
      "source": [
        "# Esempio di gestione delle eccezioni\n",
        "try:\n",
        "    valore= 10 / 0\n",
        "except ZeroDivisionError:\n",
        "    print(\"Impossibile dividere per zero.\")\n",
        "\n"
      ],
      "metadata": {
        "id": "1YHq71L9gWBD"
      },
      "execution_count": null,
      "outputs": []
    },
    {
      "cell_type": "markdown",
      "source": [
        "# **Gestione delle eccezioni**\n",
        "La gestione delle eccezioni in Python ci permette di gestire eventuali errori che possono verificarsi durante l'esecuzione del programma.\n",
        "\n",
        "```\n",
        "try:\n",
        "    valore= 10 / 0\n",
        "except ZeroDivisionError:\n",
        "    print(\"Impossibile dividere per zero.\")\n",
        "\n",
        "print(valore)\n",
        "\n",
        "```\n",
        "Prendiamo in considerazione questo frammento di codice, sarà possibile stampare la varibiale valore? no!\n",
        "L'errore al momento della compilazione sarà il seguente:\n",
        "\n",
        "```\n",
        "# NameError                                 Traceback (most recent call last)\n",
        "<ipython-input-24-71c52030a4ba> in <cell line: 7>()\n",
        "      5     print(\"Impossibile dividere per zero.\")\n",
        "      6\n",
        "----> 7 print(valore)\n",
        "      8\n",
        "      9\n",
        "\n",
        "NameError: name 'valore' is not defined\n",
        "```\n",
        "\n",
        "\n"
      ],
      "metadata": {
        "id": "SZl8QGcjhMWZ"
      }
    },
    {
      "cell_type": "markdown",
      "source": [
        "# **Esercizi**\n",
        "\n",
        "```\n",
        "Scrivere una funzione che restituisca il massimo tra tre numeri.\n",
        "(variante 1 tutti i numeri inseriti sono diversi)\n",
        "(variante 2 è possibile che due o più numeri siano uguali)\n",
        "\n",
        "Creare una lista di numeri e stampare solo quelli pari.\n",
        "(variante: se un numero è presente più di una volta deve essere stampato solo una volta a video)\n",
        "\n",
        "Definire un dizionario che rappresenti un libro con chiavi come \"titolo\", \"autore\" e \"anno di pubblicazione\" e si stampino a\n",
        "video solamente gli elementi che hanno come autore \"J.K. Rowling\" e come titolo \"Harry Potter\"\n",
        "\n",
        "Creare delle funzioni che regolino il funzionamento di una calcolatrice utilizzando: somma, moltiplicazione, divisione, sottrazione\n",
        "```\n",
        "\n"
      ],
      "metadata": {
        "id": "lI-SeS3jh75i"
      }
    },
    {
      "cell_type": "code",
      "source": [
        "#Esercizio 1: (insieme di variante 1 e variante 2, sono coperte tutte le possbilità)\n",
        "\n",
        "def MaxNumeri(n1, n2, n3):\n",
        "    if n2 > n1:\n",
        "      if n2 > n3:\n",
        "        print(f\"Il numero massimo fra quelli inseriti è {n2}\")\n",
        "      else:\n",
        "        print(f\"Il numero massimo fra quelli inseriti è {n3}\")\n",
        "    else:\n",
        "      if n1 > n3:\n",
        "        print(f\"Il numero massimo fra quelli inseriti è {n1}\")\n",
        "      else:\n",
        "        print(f\"Il numero massimo fra quelli inseriti è {n3}\")\n",
        "\n",
        "\n",
        "n1 = input()\n",
        "n2 = input()\n",
        "n3 = input()\n",
        "\n",
        "MaxNumeri(n1,n2,n3)\n",
        "\n"
      ],
      "metadata": {
        "id": "WhPAXM1YilhE"
      },
      "execution_count": null,
      "outputs": []
    },
    {
      "cell_type": "code",
      "source": [
        "#Esercizio 2:\n",
        "\n",
        "NumeriTotali = input(\"inserire quanti numeri vuoi inserire nella lista: \")\n",
        "Numeri = []\n",
        "\n",
        "for i in range(int(NumeriTotali)):\n",
        "  Numeri.append(input(\"inserisci un numero: \"))\n",
        "\n",
        "\n",
        "#La lista è completa\n",
        "\n",
        "\n",
        "#caso base\n",
        "\n",
        "print(\"\\n\\nI numeri pari contenuti all'interno della lista sono i seguenti: \")\n",
        "for i in range(int(NumeriTotali)):\n",
        "    if (0 == int(Numeri[i]) % 2):\n",
        "      print(Numeri[i])\n",
        "\n",
        "\n",
        "#variante\n",
        "\n",
        "Numeri_pari_unici = []\n",
        "print(\"\\n\\nI numeri pari contenuti all'interno della lista sono i seguenti: \")\n",
        "for i in range(int(NumeriTotali)):\n",
        "    if (0 ==  (int(Numeri[i]) % 2)):\n",
        "      presente = False\n",
        "      for j in range(len(Numeri_pari_unici)):\n",
        "        if (Numeri[i] == Numeri_pari_unici[j]) :\n",
        "          presente = True\n",
        "      if presente == False:\n",
        "        Numeri_pari_unici.append(Numeri[i])\n",
        "\n",
        "for i in range(len(Numeri_pari_unici)) :\n",
        "  print(Numeri_pari_unici[i])\n",
        "\n",
        "\n"
      ],
      "metadata": {
        "id": "qYRIk6UnkXL4"
      },
      "execution_count": null,
      "outputs": []
    },
    {
      "cell_type": "code",
      "source": [
        "#Esercizio 3\n",
        "\n",
        "libri = []\n",
        "numero_libri = input(\"inserire quanti libri si vogliono inserire: \")\n",
        "\n",
        "# Inserimento dei libri da tastiera\n",
        "for _ in range(int(numero_libri)):\n",
        "    titolo = input(\"Inserisci il titolo del libro: \")\n",
        "    autore = input(\"Inserisci l'autore del libro: \")\n",
        "    anno_pubblicazione = input(\"Inserisci l'anno di pubblicazione del libro: \")\n",
        "\n",
        "    libro = {\n",
        "        \"titolo\": titolo,\n",
        "        \"autore\": autore,\n",
        "        \"anno_di_pubblicazione\": anno_pubblicazione\n",
        "    }\n",
        "\n",
        "    libri.append(libro)\n",
        "\n",
        "# Filtraggio e stampa degli elementi\n",
        "for libro in libri:\n",
        "    if libro[\"autore\"] == \"J.K. Rowling\" and \"Harry Potter\" in libro[\"titolo\"]:\n",
        "        print(\"\\nLibro trovato:\")\n",
        "        print(f\"Titolo: {libro['titolo']}\")\n",
        "        print(f\"Autore: {libro['autore']}\")\n",
        "        print(f\"Anno di pubblicazione: {libro['anno_di_pubblicazione']}\")\n"
      ],
      "metadata": {
        "id": "qvEAnOocBVb8"
      },
      "execution_count": null,
      "outputs": []
    },
    {
      "cell_type": "code",
      "source": [
        "#Esercizio 4\n",
        "def calcola_senza_interfaccia():\n",
        "    num1 = float(input(\"Inserisci il primo numero: \"))\n",
        "    num2 = float(input(\"Inserisci il secondo numero: \"))\n",
        "    operazione = input(\"Seleziona un'operazione (+, -, *, /): \")\n",
        "\n",
        "    if operazione == \"+\":\n",
        "        risultato = num1 + num2\n",
        "    elif operazione == \"-\":\n",
        "        risultato = num1 - num2\n",
        "    elif operazione == \"*\":\n",
        "        risultato = num1 * num2\n",
        "    elif operazione == \"/\":\n",
        "        if num2 != 0:                                                           # utilizzando il try?\n",
        "            risultato = num1 / num2\n",
        "        else:\n",
        "            risultato = \"Impossibile dividere per zero\"\n",
        "    else:\n",
        "        risultato = \"Operazione non valida\"\n",
        "\n",
        "    print(f\"Risultato: {risultato}\")\n",
        "\n",
        "# Esegui la calcolatrice senza interfaccia grafica\n",
        "calcola_senza_interfaccia()\n",
        "\n"
      ],
      "metadata": {
        "id": "C8aM2AQKFGke"
      },
      "execution_count": null,
      "outputs": []
    },
    {
      "cell_type": "markdown",
      "source": [
        "**Programma utilizzando il try**\n",
        "\n",
        "```\n",
        "#Esercizio 4\n",
        "def calcola_senza_interfaccia():\n",
        "    num1 = float(input(\"Inserisci il primo numero: \"))\n",
        "    num2 = float(input(\"Inserisci il secondo numero: \"))\n",
        "    operazione = input(\"Seleziona un'operazione (+, -, *, /): \")\n",
        "\n",
        "    if operazione == \"+\":\n",
        "        risultato = num1 + num2\n",
        "    elif operazione == \"-\":\n",
        "        risultato = num1 - num2\n",
        "    elif operazione == \"*\":\n",
        "        risultato = num1 * num2\n",
        "    elif operazione == \"/\":\n",
        "        try:\n",
        "          risultato = num1 / num2\n",
        "        except ZeroDivisionError:\n",
        "          risultato = \"Impossibile dividere per zero.\"\n",
        "    else:\n",
        "        risultato = \"Operazione non valida\"\n",
        "\n",
        "    print(f\"Risultato: {risultato}\")\n",
        "\n",
        "# Esegui la calcolatrice senza interfaccia grafica\n",
        "calcola_senza_interfaccia()\n",
        "```\n",
        "Provare a mandarlo in esecuzione!!"
      ],
      "metadata": {
        "id": "H-5BP2-25fC3"
      }
    },
    {
      "cell_type": "code",
      "source": [
        "#Esercizio 4 con interfaccia grafica\n",
        "\n",
        "from IPython.display import display                                             #gestione librerie per l'implementazione widget\n",
        "import ipywidgets as widgets\n",
        "from IPython.display import Javascript\n",
        "\n",
        "# Funzione per eseguire il codice JavaScript per pulire l'output\n",
        "def clear_output():\n",
        "    display(Javascript('IPython.notebook.execute_cell_range(IPython.notebook.get_selected_index()+1, IPython.notebook.ncells())'))\n",
        "\n",
        "# Funzione di calcolo\n",
        "def calcola(b):\n",
        "    num1 = float(input_num1.value)\n",
        "    num2 = float(input_num2.value)\n",
        "    operazione = operazioni_dropdown.value\n",
        "\n",
        "    if operazione == \"Somma\":\n",
        "        risultato.value = f\"Risultato: {num1 + num2}\"\n",
        "    elif operazione == \"Sottrazione\":\n",
        "        risultato.value = f\"Risultato: {num1 - num2}\"\n",
        "    elif operazione == \"Moltiplicazione\":\n",
        "        risultato.value = f\"Risultato: {num1 * num2}\"\n",
        "    elif operazione == \"Divisione\":\n",
        "        if num2 != 0:                                                           # utilizzando il try?\n",
        "            risultato.value = f\"Risultato: {num1 / num2}\"\n",
        "        else:\n",
        "            risultato.value = \"Impossibile dividere per zero\"\n",
        "\n",
        "# Creazione dei widget\n",
        "input_num1 = widgets.FloatText(description=\"Numero 1:\")\n",
        "input_num2 = widgets.FloatText(description=\"Numero 2:\")\n",
        "operazioni_dropdown = widgets.Dropdown(\n",
        "    options=[\"Somma\", \"Sottrazione\", \"Moltiplicazione\", \"Divisione\"],\n",
        "    value=\"Somma\",\n",
        "    description=\"Operazione:\"\n",
        ")\n",
        "risultato = widgets.Text(value=\"\", description=\"Risultato:\", disabled=True)\n",
        "\n",
        "button_calcola = widgets.Button(description=\"Calcola\")\n",
        "button_calcola.on_click(calcola)\n",
        "\n",
        "# Visualizzazione dei widget\n",
        "display(input_num1, input_num2, operazioni_dropdown, button_calcola, risultato)\n"
      ],
      "metadata": {
        "id": "_qRvdMFXGJGF"
      },
      "execution_count": null,
      "outputs": []
    },
    {
      "cell_type": "code",
      "source": [
        "import ipywidgets as widgets\n",
        "from IPython.display import display\n",
        "\n",
        "# Funzione per contare le parole\n",
        "def conta_parole(testo):\n",
        "    parole = testo.split()\n",
        "    num_parole = len(parole)\n",
        "    return num_parole\n",
        "\n",
        "# Widget di input per il testo\n",
        "testo_input = widgets.Textarea(\n",
        "    value='',\n",
        "    placeholder='Inserisci il testo qui',\n",
        "    description='Testo:',\n",
        "    disabled=False\n",
        ")\n",
        "\n",
        "# Funzione di gestione dell'evento di clic sul pulsante\n",
        "def on_button_click(b):\n",
        "    num_parole = conta_parole(testo_input.value)\n",
        "    risultato.value = f\"Numero di parole nel testo: {num_parole}\"\n",
        "\n",
        "# Widget del pulsante\n",
        "pulsante_conta = widgets.Button(description=\"Conta parole\")\n",
        "pulsante_conta.on_click(on_button_click)\n",
        "\n",
        "# Widget per visualizzare il risultato\n",
        "risultato = widgets.Label(value=\"\")\n",
        "\n",
        "# Mostra i widget\n",
        "display(testo_input, pulsante_conta, risultato)\n"
      ],
      "metadata": {
        "id": "dZcIVOZmKKCz"
      },
      "execution_count": null,
      "outputs": []
    },
    {
      "cell_type": "markdown",
      "source": [
        "MEDIA VOTI BASE (3 voti)"
      ],
      "metadata": {
        "id": "76QI1xStCbH7"
      }
    },
    {
      "cell_type": "code",
      "source": [
        "import ipywidgets as widgets\n",
        "from IPython.display import display, HTML, clear_output\n",
        "\n",
        "# Inizializza una lista vuota per i voti\n",
        "voti_tpsi = []\n",
        "\n",
        "# Funzione per calcolare la media e visualizzare il risultato con il colore corrispondente\n",
        "def calcola_media(change):\n",
        "    global voti_tpsi\n",
        "    # Ottieni i voti inseriti\n",
        "    voti = [float(voto.value) for voto in voti_tpsi]\n",
        "\n",
        "    # Calcola la media\n",
        "    media = sum(voti) / len(voti) if len(voti) > 0 else 0\n",
        "\n",
        "    # Colora il risultato in base al range di voti\n",
        "    if media < 5:\n",
        "        colore = 'red'\n",
        "        messaggio = f\"<b>Hai bisogno di migliorare!</b> Puoi studiare di più.\"\n",
        "        messaggio_extra = f\"Per avere una media sufficiente, prova a ottenere almeno <b>{6 * (len(voti) + 1) - sum(voti):.2f}</b> nella prossima verifica.\"\n",
        "    elif 5 <= media < 6:\n",
        "        colore = 'yellow'\n",
        "        messaggio = f\"<b>Sufficiente, ma puoi fare meglio.</b> Puoi studiare di più.\"\n",
        "        messaggio_extra = f\"Per avere una media sufficiente, prova a ottenere almeno <b>{6 * (len(voti) + 1) - sum(voti):.2f}</b> nella prossima verifica.\"\n",
        "\n",
        "    elif 6 <= media < 10:\n",
        "        colore = 'green'\n",
        "        messaggio = \"<b>Ottimo lavoro!</b> Continua così.\"\n",
        "        messaggio_extra = f\"Per riuscire a mantenere la media sufficiente, prova a ottenere almeno <b>{6 * (len(voti) + 1) - sum(voti):.2f}</b> nella prossima verifica.\"\n",
        "\n",
        "    else:\n",
        "        colore = 'blue'\n",
        "        messaggio = \"<b>Straordinario!</b> Hai ottenuto il massimo punteggio. Continua così.\"\n",
        "        messaggio_extra = f\"Per riuscire a mantenere la media sufficiente, prova a ottenere almeno <b>{6 * (len(voti) + 1) - sum(voti):.2f}</b> nella prossima verifica.\"\n",
        "\n",
        "\n",
        "    # Visualizza la media con il colore corrispondente\n",
        "    risultato.value = f\"<font color='{colore}'>Media: {media:.2f}</font>\"\n",
        "\n",
        "    # Visualizza il messaggio principale\n",
        "    with output:\n",
        "        output.clear_output(wait=True)\n",
        "        display(HTML(messaggio))\n",
        "        # Visualizza il messaggio extra se presente\n",
        "        if messaggio_extra:\n",
        "            display(HTML(messaggio_extra))\n",
        "\n",
        "# Crea i widget per l'inserimento dei voti\n",
        "label_tpsi = widgets.Label(\"Inserisci i voti TPSI:\")\n",
        "voti_tpsi = [\n",
        "    widgets.FloatText(description=\"Voto Scritto:\"),\n",
        "    widgets.FloatText(description=\"Voto Orale:\"),\n",
        "    widgets.FloatText(description=\"Voto Laboratorio:\")\n",
        "]\n",
        "calcola_button = widgets.Button(description=\"Calcola Media\")\n",
        "risultato = widgets.HTML(value=\"Media: \")\n",
        "\n",
        "# Nuovo widget per il messaggio\n",
        "output = widgets.Output()\n",
        "\n",
        "# Collega la funzione di calcolo alla pressione del pulsante\n",
        "calcola_button.on_click(calcola_media)\n",
        "\n",
        "# Mostra i widget\n",
        "display(label_tpsi)\n",
        "display(*voti_tpsi)\n",
        "display(calcola_button)\n",
        "display(risultato)\n",
        "display(output)\n"
      ],
      "metadata": {
        "id": "d89dEe9H7ICx"
      },
      "execution_count": null,
      "outputs": []
    },
    {
      "cell_type": "markdown",
      "source": [
        "Media voti avanzato"
      ],
      "metadata": {
        "id": "Rau8KOMbOdIs"
      }
    },
    {
      "cell_type": "code",
      "source": [
        "import ipywidgets as widgets\n",
        "from IPython.display import display, HTML\n",
        "import numpy as np\n",
        "import matplotlib.pyplot as plt\n",
        "\n",
        "# Funzione di calcolo della media e visualizzazione risultato\n",
        "def calcola_media(change):\n",
        "    global voto_scritto, voto_orale, voto_laboratorio\n",
        "    # Ottieni i voti inseriti\n",
        "    voti_scritto = [float(voto_scritto_widgets[i].value) for i in range(len(voto_scritto_widgets))]\n",
        "    voti_orale = [float(voto_orale_widgets[i].value) for i in range(len(voto_orale_widgets))]\n",
        "    voti_laboratorio = [float(voto_laboratorio_widgets[i].value) for i in range(len(voto_laboratorio_widgets))]\n",
        "\n",
        "    # Calcola la media totale\n",
        "    media_totale = (sum(voti_scritto) + sum(voti_orale) + sum(voti_laboratorio)) / (len(voti_scritto) + len(voti_orale) + len(voti_laboratorio)) if (len(voti_scritto) + len(voti_orale) + len(voti_laboratorio)) > 0 else 0\n",
        "\n",
        "    # Colora il risultato in base al range di voti\n",
        "    if media_totale < 5:\n",
        "        colore = 'red'\n",
        "        messaggio = f\"<b>Hai bisogno di migliorare!</b> Puoi studiare di più.\"\n",
        "    elif 5 <= media_totale < 6:\n",
        "        colore = 'yellow'\n",
        "        messaggio = f\"<b>Quasi sufficiente, ma puoi fare molto meglio.</b> Puoi studiare di più.\"\n",
        "    elif 6 <= media_totale < 10:\n",
        "        colore = 'green'\n",
        "        messaggio = \"<b>Ottimo lavoro!</b> Continua così.\"\n",
        "    else:\n",
        "        colore = 'blue'\n",
        "        messaggio = \"<b>Straordinario!</b> Hai ottenuto il massimo punteggio. Continua così.\"\n",
        "\n",
        "    # Visualizza la media totale con il colore corrispondente\n",
        "    risultato_totale.value = f\"<font color='{colore}'>Media di {materia} dell'alunno {nome} della classe {classe}: {media_totale:.2f}</font>\"\n",
        "\n",
        "    # Visualizza il messaggio principale\n",
        "    display(HTML(messaggio))\n",
        "\n",
        "    # Visualizza l'istogramma delle medie per ogni tipologia di voto\n",
        "    visualizza_istogramma([np.mean(voti_scritto), np.mean(voti_orale), np.mean(voti_laboratorio)],\n",
        "                         [\"Scritto\", \"Orale\", \"Laboratorio\"])\n",
        "\n",
        "# Funzione per visualizzare l'istogramma delle medie per tutte le tipologie di voto\n",
        "def visualizza_istogramma(medie, tipologie):\n",
        "    plt.figure(figsize=(8, 6))\n",
        "    bars = plt.bar(tipologie, medie, color=['blue', 'green', 'red'], alpha=0.7)\n",
        "    plt.title(\"Medie per Tipologia di Voto\")\n",
        "    plt.xlabel(\"Tipologia di Voto\")\n",
        "    plt.ylabel('Media')\n",
        "\n",
        "    # Aggiungi il valore sopra ogni barra\n",
        "    for bar, media in zip(bars, medie):\n",
        "        plt.text(bar.get_x() + bar.get_width() / 2, bar.get_height(), f'{media:.2f}', ha='center', va='bottom')\n",
        "\n",
        "    plt.show()\n",
        "\n",
        "# Funzione di aggiornamento manuale dei voti\n",
        "def aggiorna_voti(change):\n",
        "    global voto_scritto_widgets, voto_orale_widgets, voto_laboratorio_widgets\n",
        "    # Pulisci i widget precedenti\n",
        "    for widget in voto_scritto_widgets + voto_orale_widgets + voto_laboratorio_widgets:\n",
        "        widget.close()\n",
        "\n",
        "    # Chiedi all'utente di inserire il numero di voti per ciascuna tipologia\n",
        "    voto_scritto_widgets = [widgets.FloatText(description=f\"Voto Scritto {i + 1}:\") for i in range(int(input(\"Inserisci il numero di voti per lo scritto: \")))]\n",
        "    voto_orale_widgets = [widgets.FloatText(description=f\"Voto Orale {i + 1}:\") for i in range(int(input(\"Inserisci il numero di voti per l'orale: \")))]\n",
        "    voto_laboratorio_widgets = [widgets.FloatText(description=f\"Voto Laboratorio {i + 1}:\") for i in range(int(input(\"Inserisci il numero di voti per il laboratorio: \")))]\n",
        "\n",
        "    # Mostra i nuovi widget\n",
        "    display(widgets.HBox([\n",
        "        widgets.VBox([widgets.Label(\"Voti Scritto:\"), *voto_scritto_widgets]),\n",
        "        widgets.VBox([widgets.Label(\"Voti Orale:\"), *voto_orale_widgets]),\n",
        "        widgets.VBox([widgets.Label(\"Voti Laboratorio:\"), *voto_laboratorio_widgets])\n",
        "    ]))\n",
        "\n",
        "# Inizializza i widget per i voti\n",
        "nome = input(\"Inserire nome dell'alunno: \")\n",
        "materia = input(\"Inserire la materia di cui si vuole calcolare la media: \")\n",
        "classe = input(\"Inserire la classe dell'alunno: \")\n",
        "clear_output(wait=True)\n",
        "voto_scritto_widgets = []\n",
        "voto_orale_widgets = []\n",
        "voto_laboratorio_widgets = []\n",
        "\n",
        "calcola_button = widgets.Button(description=\"Calcola Media\")\n",
        "risultato_totale = widgets.HTML(value=f\"Media di {materia} dell'alunno {nome} della classe {classe}: \")\n",
        "\n",
        "# Collega le funzioni di calcolo e aggiornamento alla pressione del pulsante\n",
        "calcola_button.on_click(calcola_media)\n",
        "\n",
        "# Mostra gli widget iniziali\n",
        "display(calcola_button)\n",
        "display(risultato_totale)\n",
        "\n",
        "# Esegui l'aggiornamento iniziale dei voti\n",
        "aggiorna_voti(None)\n"
      ],
      "metadata": {
        "id": "447RRFgkCfj8"
      },
      "execution_count": null,
      "outputs": []
    }
  ]
}