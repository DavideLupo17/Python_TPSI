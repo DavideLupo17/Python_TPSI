{
  "nbformat": 4,
  "nbformat_minor": 0,
  "metadata": {
    "colab": {
      "provenance": [],
      "authorship_tag": "ABX9TyO8jtx9AfFuUJYTZNU0HUjv",
      "include_colab_link": true
    },
    "kernelspec": {
      "name": "python3",
      "display_name": "Python 3"
    },
    "language_info": {
      "name": "python"
    }
  },
  "cells": [
    {
      "cell_type": "markdown",
      "metadata": {
        "id": "view-in-github",
        "colab_type": "text"
      },
      "source": [
        "<a href=\"https://colab.research.google.com/github/DavideLupo17/Python_TPSI/blob/main/Lezione2Python.ipynb\" target=\"_parent\"><img src=\"https://colab.research.google.com/assets/colab-badge.svg\" alt=\"Open In Colab\"/></a>"
      ]
    },
    {
      "cell_type": "markdown",
      "source": [
        "**Esercizio 1**: Calcolo dell'Indice di Massa Corporea (BMI)\n",
        "Testo:\n",
        "Scrivi una funzione chiamata calcola_bmi che prende in input il peso in kg e l'altezza in metri di una persona e restituisce il suo indice di massa corporea (BMI). L'indice di massa corporea si calcola come peso (kg) diviso per l'altezza al quadrato (m²).\n",
        "\n",
        "**Esercizio 2**: Calcolo del Massimo Comune Denominatore\n",
        "Testo:\n",
        "Scrivi una funzione chiamata calcola_mcd che prende in input due numeri interi e restituisce il loro massimo comune denominatore (MCD). Utilizza l'algoritmo di Euclide per il calcolo.\n",
        "\n",
        "**Esercizio 3**: Verifica se un Numero è Primo\n",
        "Testo:\n",
        "Scrivi una funzione chiamata verifica_primalita che prende in input un numero intero e restituisce True se è un numero primo, False altrimenti.\n",
        "\n",
        "**Esercizio 4**: Verifica se un Numero è di Armstrong\n",
        "Testo:\n",
        "Scrivi una funzione chiamata verifica_armstrong che prende in input un numero intero e restituisce True se è un numero di Armstrong, False altrimenti. Un numero di Armstrong è un numero intero positivo tale che la somma delle sue cifre elevate alla potenza del numero di cifre è uguale al numero stesso.\n",
        "\n",
        "**Esercizio 5**: Calcolatrice\n",
        "Testo:\n",
        "Scrivi un programma che simuli una calcolatrice. La calcolatrice dovrebbe consentire agli utenti di eseguire operazioni come addizione, sottrazione, moltiplicazione e divisione. Implementa un menu interattivo che permetta agli utenti di selezionare l'operazione desiderata\n",
        "\n",
        "**Esercizio 6**: Gioco dell'Impiccato\n",
        "Testo:\n",
        "Scrivi un programma che implementi il gioco dell'impiccato. Il programma deve:\n",
        "Scegliere una parola segreta casualmente da un elenco predefinito di parole.\n",
        "Mostrare una serie di tratteggi che rappresentano le lettere della parola segreta.\n",
        "Consentire all'utente di indovinare una lettera alla volta.\n",
        "Visualizzare le lettere corrette indovinate nella posizione corretta dei trattini e aggiornare la visualizzazione.\n",
        "Limitare il numero di tentativi e informare l'utente quando ha esaurito i tentativi.\n",
        "Terminare il gioco quando l'utente ha indovinato la parola o ha esaurito i tentativi."
      ],
      "metadata": {
        "id": "GnWq1mw6NbuN"
      }
    },
    {
      "cell_type": "code",
      "source": [
        "#Esercizio 1\n",
        "def calcola_bmi(peso, altezza):\n",
        "    try:\n",
        "        bmi = peso / (altezza ** 2)\n",
        "        return bmi\n",
        "    except ZeroDivisionError:\n",
        "        print(\"Errore: Altezza non può essere zero.\")\n",
        "        return None\n",
        "\n",
        "# Esempio di utilizzo\n",
        "peso_utente = float(input(\"Inserisci il peso in kg: \"))\n",
        "altezza_utente = float(input(\"Inserisci l'altezza in metri: \"))\n",
        "\n",
        "risultato_bmi = calcola_bmi(peso_utente, altezza_utente)\n",
        "\n",
        "if risultato_bmi is not None:\n",
        "    print(f\"L'Indice di Massa Corporea (BMI) è: {risultato_bmi:.2f}\")\n"
      ],
      "metadata": {
        "colab": {
          "base_uri": "https://localhost:8080/"
        },
        "id": "N0npsFZRNoNW",
        "outputId": "b7fe5254-4687-446a-d0e8-903c53391dc1"
      },
      "execution_count": 3,
      "outputs": [
        {
          "output_type": "stream",
          "name": "stdout",
          "text": [
            "Inserisci il peso in kg: 81\n",
            "Inserisci l'altezza in metri: 1.77\n",
            "L'Indice di Massa Corporea (BMI) è: 25.85\n"
          ]
        }
      ]
    },
    {
      "cell_type": "code",
      "source": [
        "def calcola_mcd(a, b):\n",
        "    while b:\n",
        "        a, b = b, a % b\n",
        "    return a\n",
        "\n",
        "# Esempio di utilizzo\n",
        "numero1 = int(input(\"Inserisci il primo numero intero: \"))\n",
        "numero2 = int(input(\"Inserisci il secondo numero intero: \"))\n",
        "\n",
        "risultato_mcd = calcola_mcd(numero1, numero2)\n",
        "\n",
        "print(f\"Il Massimo Comune Denominatore (MCD) di {numero1} e {numero2} è: {risultato_mcd}\")\n"
      ],
      "metadata": {
        "colab": {
          "base_uri": "https://localhost:8080/"
        },
        "id": "qH2jF-plN8D_",
        "outputId": "21ee1aad-6b49-4829-a0cd-8c7fb7ddb1d9"
      },
      "execution_count": 5,
      "outputs": [
        {
          "output_type": "stream",
          "name": "stdout",
          "text": [
            "Inserisci il primo numero intero: 60\n",
            "Inserisci il secondo numero intero: 14\n",
            "Il Massimo Comune Denominatore (MCD) di 60 e 14 è: 2\n"
          ]
        }
      ]
    },
    {
      "cell_type": "code",
      "source": [],
      "metadata": {
        "id": "97D-uVXMOOM0"
      },
      "execution_count": null,
      "outputs": []
    },
    {
      "cell_type": "code",
      "source": [
        "def verifica_primalita(numero):\n",
        "    if numero <= 1:\n",
        "        return False\n",
        "    for i in range(2, int(numero**0.5) + 1):\n",
        "        if numero % i == 0:\n",
        "            return False\n",
        "    return True\n",
        "\n",
        "# Esempio di utilizzo\n",
        "numero_utente = int(input(\"Inserisci un numero intero: \"))\n",
        "\n",
        "if verifica_primalita(numero_utente):\n",
        "    print(f\"{numero_utente} è un numero primo.\")\n",
        "else:\n",
        "    print(f\"{numero_utente} non è un numero primo.\")\n"
      ],
      "metadata": {
        "colab": {
          "base_uri": "https://localhost:8080/"
        },
        "id": "7AAWif1YOgjY",
        "outputId": "e4383f1a-f97f-40c1-edec-b9bb53e7626e"
      },
      "execution_count": 10,
      "outputs": [
        {
          "output_type": "stream",
          "name": "stdout",
          "text": [
            "Inserisci un numero intero: 69\n",
            "69 non è un numero primo.\n"
          ]
        }
      ]
    },
    {
      "cell_type": "code",
      "source": [
        "def conta_cifre(numero):\n",
        "    return len(str(numero))\n",
        "\n",
        "def verifica_armstrong(numero):\n",
        "    num_cifre = conta_cifre(numero)\n",
        "    somma = 0\n",
        "    temp = numero\n",
        "\n",
        "    while temp > 0:\n",
        "        cifra = temp % 10\n",
        "        somma += cifra ** num_cifre\n",
        "        temp //= 10\n",
        "\n",
        "    return numero == somma\n",
        "\n",
        "# Esempio di utilizzo\n",
        "numero_utente = int(input(\"Inserisci un numero intero: \"))\n",
        "\n",
        "if verifica_armstrong(numero_utente):\n",
        "    print(f\"{numero_utente} è un numero di Armstrong.\")\n",
        "else:\n",
        "    print(f\"{numero_utente} non è un numero di Armstrong.\")\n"
      ],
      "metadata": {
        "colab": {
          "base_uri": "https://localhost:8080/"
        },
        "id": "2yUc70MZOvLR",
        "outputId": "3f3fe2f0-b2d2-4d29-e3d7-5295ba15ffe6"
      },
      "execution_count": 16,
      "outputs": [
        {
          "output_type": "stream",
          "name": "stdout",
          "text": [
            "Inserisci un numero intero: 370\n",
            "370 è un numero di Armstrong.\n"
          ]
        }
      ]
    },
    {
      "cell_type": "code",
      "source": [
        "def addizione(x, y):\n",
        "    return x + y\n",
        "\n",
        "def sottrazione(x, y):\n",
        "    return x - y\n",
        "\n",
        "def moltiplicazione(x, y):\n",
        "    return x * y\n",
        "\n",
        "def divisione(x, y):\n",
        "    if y != 0:\n",
        "        return x / y\n",
        "    else:\n",
        "        return \"Errore: divisione per zero\"\n",
        "\n",
        "while True:\n",
        "    print(\"Seleziona l'operazione:\")\n",
        "    print(\"1. Addizione\")\n",
        "    print(\"2. Sottrazione\")\n",
        "    print(\"3. Moltiplicazione\")\n",
        "    print(\"4. Divisione\")\n",
        "    print(\"0. Esci\")\n",
        "\n",
        "    scelta = input(\"Inserisci il numero corrispondente all'operazione desiderata: \")\n",
        "\n",
        "    if scelta == '0':\n",
        "        break\n",
        "\n",
        "    if scelta in ('1', '2', '3', '4'):\n",
        "        try:\n",
        "            num1 = float(input(\"Inserisci il primo numero: \"))\n",
        "            num2 = float(input(\"Inserisci il secondo numero: \"))\n",
        "        except ValueError:\n",
        "            print(\"Errore: Inserisci numeri validi.\")\n",
        "            continue\n",
        "\n",
        "        if scelta == '1':\n",
        "            print(f\"Risultato: {addizione(num1, num2)}\")\n",
        "        elif scelta == '2':\n",
        "            print(f\"Risultato: {sottrazione(num1, num2)}\")\n",
        "        elif scelta == '3':\n",
        "            print(f\"Risultato: {moltiplicazione(num1, num2)}\")\n",
        "        elif scelta == '4':\n",
        "            print(f\"Risultato: {divisione(num1, num2)}\")\n",
        "    else:\n",
        "        print(\"Errore: Scelta non valida. Inserisci un numero da 0 a 4.\")\n"
      ],
      "metadata": {
        "colab": {
          "base_uri": "https://localhost:8080/"
        },
        "id": "Jjv0fbwPPLXV",
        "outputId": "fc021d33-e0b8-4750-99fc-7c81e02bc51b"
      },
      "execution_count": 17,
      "outputs": [
        {
          "name": "stdout",
          "output_type": "stream",
          "text": [
            "Seleziona l'operazione:\n",
            "1. Addizione\n",
            "2. Sottrazione\n",
            "3. Moltiplicazione\n",
            "4. Divisione\n",
            "0. Esci\n",
            "Inserisci il numero corrispondente all'operazione desiderata: 5\n",
            "Errore: Scelta non valida. Inserisci un numero da 0 a 4.\n",
            "Seleziona l'operazione:\n",
            "1. Addizione\n",
            "2. Sottrazione\n",
            "3. Moltiplicazione\n",
            "4. Divisione\n",
            "0. Esci\n",
            "Inserisci il numero corrispondente all'operazione desiderata: 4\n",
            "Inserisci il primo numero: 6\n",
            "Inserisci il secondo numero: 8\n",
            "Risultato: 0.75\n",
            "Seleziona l'operazione:\n",
            "1. Addizione\n",
            "2. Sottrazione\n",
            "3. Moltiplicazione\n",
            "4. Divisione\n",
            "0. Esci\n",
            "Inserisci il numero corrispondente all'operazione desiderata: 0\n"
          ]
        }
      ]
    },
    {
      "cell_type": "code",
      "source": [
        "import random\n",
        "\n",
        "def scegli_parola():\n",
        "    parole = [\"python\", \"programmazione\", \"gatto\", \"computer\", \"avventura\"]\n",
        "    return random.choice(parole)\n",
        "\n",
        "def visualizza_parola(parola, lettere_indovinate):\n",
        "    display = \"\"\n",
        "    for lettera in parola:\n",
        "        if lettera in lettere_indovinate:\n",
        "            display += lettera\n",
        "        else:\n",
        "            display += \"_\"\n",
        "    return display\n",
        "\n",
        "def gioco_impiccato():\n",
        "    parola_segreta = scegli_parola()\n",
        "    lettere_indovinate = set()\n",
        "    tentativi_rimasti = 6\n",
        "\n",
        "    print(\"Benvenuto al gioco dell'impiccato!\")\n",
        "    print(visualizza_parola(parola_segreta, lettere_indovinate))\n",
        "\n",
        "    while tentativi_rimasti > 0:\n",
        "        scelta = input(\"Vuoi indovinare una lettera o la parola intera? (l/p): \").lower()\n",
        "\n",
        "        if scelta == \"l\":\n",
        "            lettera_guess = input(\"Indovina una lettera: \").lower()\n",
        "\n",
        "            if lettera_guess in lettere_indovinate:\n",
        "                print(\"Hai già indovinato questa lettera.\")\n",
        "            elif lettera_guess in parola_segreta:\n",
        "                lettere_indovinate.add(lettera_guess)\n",
        "                print(\"Ottimo! Hai indovinato una lettera.\")\n",
        "            else:\n",
        "                tentativi_rimasti -= 1\n",
        "                print(f\"Sbagliato! Hai {tentativi_rimasti} tentativi rimasti.\")\n",
        "        elif scelta == \"p\":\n",
        "            parola_guess = input(\"Indovina l'intera parola: \").lower()\n",
        "\n",
        "            if parola_guess == parola_segreta:\n",
        "                print(\"Congratulazioni! Hai indovinato la parola.\")\n",
        "                break\n",
        "            else:\n",
        "                tentativi_rimasti -= 1\n",
        "                print(f\"Sbagliato! Hai {tentativi_rimasti} tentativi rimasti.\")\n",
        "        else:\n",
        "            print(\"Scelta non valida. Inserisci 'l' per indovinare una lettera o 'p' per indovinare l'intera parola.\")\n",
        "\n",
        "        parola_visualizzata = visualizza_parola(parola_segreta, lettere_indovinate)\n",
        "        print(parola_visualizzata)\n",
        "\n",
        "        if \"_\" not in parola_visualizzata:\n",
        "            print(\"Congratulazioni! Hai indovinato la parola.\")\n",
        "            break\n",
        "\n",
        "    if tentativi_rimasti == 0:\n",
        "        print(f\"Hai esaurito i tentativi. La parola era: {parola_segreta}\")\n",
        "\n",
        "# Esempio di utilizzo\n",
        "gioco_impiccato()\n"
      ],
      "metadata": {
        "colab": {
          "base_uri": "https://localhost:8080/"
        },
        "id": "Hz0-PHN8Pegb",
        "outputId": "7ab978e1-0832-4152-b7cc-03269833640b"
      },
      "execution_count": 20,
      "outputs": [
        {
          "output_type": "stream",
          "name": "stdout",
          "text": [
            "Benvenuto al gioco dell'impiccato!\n",
            "________\n",
            "Vuoi indovinare una lettera o la parola intera? (l/p): p\n",
            "Indovina l'intera parola: avventura\n",
            "Sbagliato! Hai 5 tentativi rimasti.\n",
            "________\n",
            "Vuoi indovinare una lettera o la parola intera? (l/p): p\n",
            "Indovina l'intera parola: gatto\n",
            "Sbagliato! Hai 4 tentativi rimasti.\n",
            "________\n",
            "Vuoi indovinare una lettera o la parola intera? (l/p): programmazione\n",
            "Scelta non valida. Inserisci 'l' per indovinare una lettera o 'p' per indovinare l'intera parola.\n",
            "________\n",
            "Vuoi indovinare una lettera o la parola intera? (l/p): p\n",
            "Indovina l'intera parola: programmazione\n",
            "Sbagliato! Hai 3 tentativi rimasti.\n",
            "________\n",
            "Vuoi indovinare una lettera o la parola intera? (l/p): p\n",
            "Indovina l'intera parola: python\n",
            "Sbagliato! Hai 2 tentativi rimasti.\n",
            "________\n",
            "Vuoi indovinare una lettera o la parola intera? (l/p): p\n",
            "Indovina l'intera parola: computer\n",
            "Congratulazioni! Hai indovinato la parola.\n"
          ]
        }
      ]
    }
  ]
}